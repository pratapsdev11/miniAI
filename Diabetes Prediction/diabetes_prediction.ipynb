{
 "cells": [
  {
   "cell_type": "code",
   "execution_count": null,
   "id": "ff420cae",
   "metadata": {},
   "outputs": [],
   "source": [
    "import numpy as np \n",
    "import pandas as pd\n",
    "import sklearn \n",
    "from sklearn.model_selection import train_test_split\n",
    "from sklearn.preprocessing import StandardScaler\n",
    "from sklearn import svm\n",
    "from sklearn.metrics import accuracy_score\n"
   ]
  },
  {
   "cell_type": "code",
   "execution_count": null,
   "id": "6c7076f7",
   "metadata": {},
   "outputs": [],
   "source": [
    "diabetes_dataset=pd.read_csv(\"diabetes.csv\")\n",
    "diabetes_dataset"
   ]
  },
  {
   "cell_type": "code",
   "execution_count": null,
   "id": "1a5f4e74",
   "metadata": {},
   "outputs": [],
   "source": [
    "diabetes_dataset.shape\n"
   ]
  },
  {
   "cell_type": "code",
   "execution_count": null,
   "id": "a5670ae4",
   "metadata": {},
   "outputs": [],
   "source": [
    "diabetes_dataset.describe()"
   ]
  },
  {
   "cell_type": "code",
   "execution_count": null,
   "id": "7fc677b5",
   "metadata": {},
   "outputs": [],
   "source": [
    " diabetes_dataset['Outcome'].value_counts()"
   ]
  },
  {
   "cell_type": "code",
   "execution_count": null,
   "id": "205e1809",
   "metadata": {},
   "outputs": [],
   "source": [
    "diabetes_dataset.groupby('Outcome').mean()"
   ]
  },
  {
   "cell_type": "code",
   "execution_count": null,
   "id": "76589358",
   "metadata": {},
   "outputs": [],
   "source": [
    "X=diabetes_dataset.drop(columns='Outcome',axis=1)\n",
    "y=diabetes_dataset['Outcome']"
   ]
  },
  {
   "cell_type": "code",
   "execution_count": null,
   "id": "dbc64278",
   "metadata": {},
   "outputs": [],
   "source": [
    "print(X)\n",
    "print(y)"
   ]
  },
  {
   "cell_type": "code",
   "execution_count": null,
   "id": "85f32218",
   "metadata": {},
   "outputs": [],
   "source": [
    "#data standardization\n",
    "scaler=StandardScaler()\n"
   ]
  },
  {
   "cell_type": "raw",
   "id": "0f9cdad8",
   "metadata": {},
   "source": []
  },
  {
   "cell_type": "code",
   "execution_count": null,
   "id": "c7abefc8",
   "metadata": {},
   "outputs": [],
   "source": [
    "scaler.fit(X)"
   ]
  },
  {
   "cell_type": "code",
   "execution_count": null,
   "id": "64a608fe",
   "metadata": {},
   "outputs": [],
   "source": [
    "standardized_data=scaler.transform(X)"
   ]
  },
  {
   "cell_type": "code",
   "execution_count": null,
   "id": "acf199e9",
   "metadata": {},
   "outputs": [],
   "source": [
    "standardized_data\n"
   ]
  },
  {
   "cell_type": "code",
   "execution_count": null,
   "id": "b71233da",
   "metadata": {},
   "outputs": [],
   "source": [
    "X=standardized_data\n",
    "y= diabetes_dataset[\"Outcome\"]"
   ]
  },
  {
   "cell_type": "code",
   "execution_count": null,
   "id": "296d32c0",
   "metadata": {},
   "outputs": [],
   "source": [
    "print(X)\n",
    "print(y)"
   ]
  },
  {
   "cell_type": "code",
   "execution_count": null,
   "id": "4016fbda",
   "metadata": {},
   "outputs": [],
   "source": [
    "X_train,X_test,y_train,y_test=train_test_split(X,y,test_size=0.2,stratify=y,random_state=2)"
   ]
  },
  {
   "cell_type": "code",
   "execution_count": null,
   "id": "0d9cb241",
   "metadata": {},
   "outputs": [],
   "source": [
    "print(X_train.shape,X_test.shape)"
   ]
  },
  {
   "cell_type": "code",
   "execution_count": null,
   "id": "5cfa11fd",
   "metadata": {},
   "outputs": [],
   "source": [
    "classifier=svm.SVC(kernel='linear')"
   ]
  },
  {
   "cell_type": "code",
   "execution_count": null,
   "id": "f464ee99",
   "metadata": {},
   "outputs": [],
   "source": [
    "#training \n",
    "classifier.fit(X_train,y_train)"
   ]
  },
  {
   "cell_type": "code",
   "execution_count": null,
   "id": "bcd94258",
   "metadata": {},
   "outputs": [],
   "source": [
    "#accuracy score on the training data \n",
    "X_tarin_prediction=classifier.predict(X_train)\n",
    "training_data_acc=accuracy_score(X_tarin_prediction,y_train)\n",
    "training_data_acc"
   ]
  },
  {
   "cell_type": "code",
   "execution_count": null,
   "id": "c9a882da",
   "metadata": {},
   "outputs": [],
   "source": [
    "#acc on the test data\n",
    "X_test_prediction=classifier.predict(X_test)\n",
    "tests_data_acc=accuracy_score(X_test_prediction,y_test)\n",
    "tests_data_acc"
   ]
  },
  {
   "cell_type": "code",
   "execution_count": null,
   "id": "21039456",
   "metadata": {},
   "outputs": [],
   "source": [
    "def diabetes(input_data):\n",
    "    reshape_array=input_data_array.reshape(1,-1)\n",
    "    input_data_std=scaler.transform(reshape_array)\n",
    "    prediction=classifier.predict(input_data_std)\n",
    "    if prediction[0]==1:\n",
    "        print(\"have diabetse\")\n",
    "    else:\n",
    "        print(\"not have diabetes\")\n"
   ]
  },
  {
   "cell_type": "code",
   "execution_count": null,
   "id": "cb54904a",
   "metadata": {},
   "outputs": [],
   "source": []
  },
  {
   "cell_type": "code",
   "execution_count": null,
   "id": "abe38c69",
   "metadata": {},
   "outputs": [],
   "source": [
    "input_data=(1,85,66,29,0,26.6,0.351,31)\n"
   ]
  }
 ],
 "metadata": {
  "kernelspec": {
   "display_name": "Python 3",
   "language": "python",
   "name": "python3"
  },
  "language_info": {
   "codemirror_mode": {
    "name": "ipython",
    "version": 3
   },
   "file_extension": ".py",
   "mimetype": "text/x-python",
   "name": "python",
   "nbconvert_exporter": "python",
   "pygments_lexer": "ipython3",
   "version": "3.8.8"
  }
 },
 "nbformat": 4,
 "nbformat_minor": 5
}
